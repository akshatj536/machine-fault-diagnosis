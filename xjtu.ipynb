{
 "cells": [
  {
   "cell_type": "code",
   "execution_count": 1,
   "id": "1b0b8e93-c375-4435-9899-596d7ba1dc1d",
   "metadata": {},
   "outputs": [],
   "source": [
    "import pandas as pd\n",
    "import numpy as np\n",
    "import os\n",
    "import matplotlib.pyplot as plt\n",
    "from scipy.signal import butter, lfilter, find_peaks\n",
    "import warnings\n",
    "\n",
    "from concurrent.futures import ThreadPoolExecutor\n",
    "from scipy.signal import savgol_filter\n",
    "from scipy.signal import argrelextrema\n",
    "from tqdm import tqdm\n",
    "warnings.filterwarnings('ignore')\n",
    "\n",
    "\n",
    "warnings.filterwarnings('ignore')"
   ]
  },
  {
   "cell_type": "code",
   "execution_count": 2,
   "id": "758da7b2-3eeb-4aac-b2e0-a554607bbd49",
   "metadata": {},
   "outputs": [],
   "source": [
    "folders = [\n",
    "    \"XJTU-SY_Bearing_Datasets/35Hz12kN/Bearing1_1\",    \n",
    "    \"XJTU-SY_Bearing_Datasets/35Hz12kN/Bearing1_2\",\n",
    "    \"XJTU-SY_Bearing_Datasets/35Hz12kN/Bearing1_3\",\n",
    "    \"XJTU-SY_Bearing_Datasets/35Hz12kN/Bearing1_4\",\n",
    "    \"XJTU-SY_Bearing_Datasets/35Hz12kN/Bearing1_5\",\n",
    "    \"XJTU-SY_Bearing_Datasets/37.5Hz11kN/Bearing2_1\",\n",
    "    \"XJTU-SY_Bearing_Datasets/37.5Hz11kN/Bearing2_2\",\n",
    "    \"XJTU-SY_Bearing_Datasets/37.5Hz11kN/Bearing2_3\",\n",
    "    \"XJTU-SY_Bearing_Datasets/37.5Hz11kN/Bearing2_4\",\n",
    "    \"XJTU-SY_Bearing_Datasets/37.5Hz11kN/Bearing2_5\",\n",
    "    \"XJTU-SY_Bearing_Datasets/40Hz10kN/Bearing3_1\",\n",
    "    \"XJTU-SY_Bearing_Datasets/40Hz10kN/Bearing3_2\",\n",
    "    \"XJTU-SY_Bearing_Datasets/40Hz10kN/Bearing3_3\",\n",
    "    \"XJTU-SY_Bearing_Datasets/40Hz10kN/Bearing3_4\",\n",
    "    \"XJTU-SY_Bearing_Datasets/40Hz10kN/Bearing3_5\"\n",
    "]"
   ]
  },
  {
   "cell_type": "code",
   "execution_count": 3,
   "id": "548548ab-84f3-4364-8465-72062c1dca09",
   "metadata": {},
   "outputs": [],
   "source": [
    "def antiGradient(X):\n",
    "    grad = np.zeros(len(X))\n",
    "    prev = X[0]\n",
    "    for i in range(len(X)):\n",
    "        grad[i] = X[i] + prev\n",
    "        prev = X[i]\n",
    "\n",
    "    return grad\n",
    "\n",
    "\n",
    "def norm(data):\n",
    "    return (data-data.mean())/(data.max()-data.min())\n",
    "\n",
    "# previous implementation\n",
    "def find_fault_start_indices(arr):\n",
    "\n",
    "    reference_amp = np.max(arr[25:225])\n",
    "    \n",
    "    medium_severity_indices = np.where(arr >  6* reference_amp)[0]\n",
    "    high_severity_indices = np.where(arr > 25 * reference_amp)[0]\n",
    "\n",
    "    if len(medium_severity_indices)==0:\n",
    "        medium_severity_index = None\n",
    "    else:\n",
    "        medium_severity_index = medium_severity_indices[0]\n",
    "\n",
    "    if len(high_severity_indices)==0:\n",
    "        high_severity_index = None\n",
    "    else:\n",
    "        high_severity_index = high_severity_indices[0]\n",
    "    return medium_severity_index, high_severity_index\n",
    "\n",
    "# new implementation\n",
    "def find_fault_start_indices_with_rms(arr):\n",
    "\n",
    "    # rms_values = rms_window(arr)\n",
    "    rms_values = rms_window_fast(arr)\n",
    "    rms_values_flatten = flatten_rms(rms_values)\n",
    "    rms_diff = 10000*(rms_values_flatten[1:] - rms_values_flatten[:-1])\n",
    "\n",
    "    # plt.figure(figsize=(15,5))\n",
    "    # plt.plot(rms_diff)\n",
    "    # plt.show()\n",
    "    medium_severity_indices = np.where(rms_diff >  4)[0]\n",
    "    high_severity_indices = np.where(rms_diff > 16)[0]\n",
    "\n",
    "    if len(medium_severity_indices)==0:\n",
    "        medium_severity_index = None\n",
    "    else:\n",
    "        medium_severity_index = medium_severity_indices[0]\n",
    "\n",
    "    if len(high_severity_indices)==0:\n",
    "        high_severity_index = None\n",
    "    else:\n",
    "        high_severity_index = high_severity_indices[0]\n",
    "    return medium_severity_index, high_severity_index\n",
    "\n",
    "\n",
    "def plot_with_severity(X, ms_idx=None, hs_idx=None):\n",
    "    plt.figure(figsize=(15,4))\n",
    "    plt.plot(X)\n",
    "    # plt.plot(norm(X))\n",
    "    if ms_idx is not None:\n",
    "        plt.axvline(x=ms_idx, color='red', linestyle='--', label=f'Partition at Medium Severity')\n",
    "    if hs_idx is not None:\n",
    "        plt.axvline(x=hs_idx, color='red', linestyle='--', label=f'Partition for High Severity')\n",
    "    if ms_idx and hs_idx:\n",
    "        plt.title(\"Severity Plot\")\n",
    "    plt.show()\n",
    "\n",
    "def find_severity(X, grad_show=False):\n",
    "    # calculate anti gradient\n",
    "    prev = norm(X)\n",
    "    for i in tqdm(range(10)):\n",
    "        grad = antiGradient(prev)\n",
    "        prev = norm(grad)\n",
    "\n",
    "    #find indices for severity\n",
    "    # ms_idx, hs_idx = find_fault_start_indices(abs(grad))\n",
    "    ms_idx, hs_idx = find_fault_start_indices_with_rms(abs(grad))\n",
    "\n",
    "    plot_with_severity(X, ms_idx, hs_idx)\n",
    "    \n",
    "    if grad_show:\n",
    "        plot_with_severity(grad)\n",
    "\n",
    "    return ms_idx, hs_idx\n",
    "\n",
    "def rms_window(signal, window_size=500):\n",
    "    # Number of RMS points\n",
    "    rms_values = np.zeros(len(signal) - window_size + 1)\n",
    "    \n",
    "    # Loop through the signal and compute RMS for each window\n",
    "    for i in range(len(rms_values)):\n",
    "        window = signal[i:i + window_size]\n",
    "        rms_values[i] = np.sqrt(np.mean(window**2))\n",
    "    \n",
    "    return rms_values\n",
    "\n",
    "def rms_window_fast(signal, window_size=500):\n",
    "    # Number of RMS points\n",
    "    rms_values = np.zeros(len(signal) - window_size)\n",
    "    \n",
    "    # Loop through the signal and compute RMS for each window\n",
    "    squared_sum = np.sum(signal[0:window_size]**2)\n",
    "    for i in range(len(rms_values)):\n",
    "        rms_values[i] = np.sqrt(squared_sum/window_size)\n",
    "        squared_sum = squared_sum + signal[i+window_size]**2\n",
    "        squared_sum = squared_sum - signal[i]**2\n",
    "    \n",
    "    return rms_values\n",
    "\n",
    "def flatten_rms(rms_values):\n",
    "    maxi = rms_values[0]\n",
    "    for i in range(len(rms_values)):\n",
    "        if rms_values[i]> maxi:\n",
    "            maxi = rms_values[i]\n",
    "        rms_values[i] =  maxi\n",
    "\n",
    "    return rms_values"
   ]
  },
  {
   "cell_type": "code",
   "execution_count": 4,
   "id": "67e5c2d3-3e1a-489e-b8ae-75cbaa613507",
   "metadata": {},
   "outputs": [],
   "source": [
    "def get_vibrationdata(file_path):\n",
    "    return pd.read_csv(file_path).values"
   ]
  },
  {
   "cell_type": "code",
   "execution_count": 5,
   "id": "8a8077b0-138c-4973-87bc-d005ad38a896",
   "metadata": {},
   "outputs": [
    {
     "name": "stderr",
     "output_type": "stream",
     "text": [
      "100%|███████████████████████████████████████████████████████████████████████████████████████████████████████████████| 5/5 [00:21<00:00,  4.25s/it]\n"
     ]
    }
   ],
   "source": [
    "X = []\n",
    "f = [5, 6, 7, 8, 9]\n",
    "for idx in tqdm(f):\n",
    "    path = folders[idx]\n",
    "    files = sorted(int(f.split('.')[0]) for f in os.listdir(path))\n",
    "    all_horizontal_data = np.concatenate([get_vibrationdata(os.path.join(path, f'{f}.csv'))[1:, 0] for f in files])\n",
    "    X.append(all_horizontal_data)"
   ]
  },
  {
   "cell_type": "markdown",
   "id": "e6ed0502-43af-4ea5-8ffc-633163852880",
   "metadata": {},
   "source": [
    "## Classification"
   ]
  },
  {
   "cell_type": "code",
   "execution_count": null,
   "id": "84745577-f335-4edd-9c0d-d207ecec22a2",
   "metadata": {},
   "outputs": [],
   "source": [
    "import os\n",
    "import sys\n",
    "import numpy as np\n",
    "import pandas as pd\n",
    "import scipy.io"
   ]
  },
  {
   "cell_type": "code",
   "execution_count": 7,
   "id": "e4a58222-458c-4db6-9bfb-6b8b6b00318b",
   "metadata": {},
   "outputs": [],
   "source": [
    "base_dir = os.path.dirname(os.getcwd())\n",
    "codes_dir = os.path.join(base_dir, \"functions\")\n",
    "if codes_dir not in sys.path:\n",
    "    sys.path.append(codes_dir)"
   ]
  },
  {
   "cell_type": "code",
   "execution_count": 8,
   "id": "c006059e-ad31-44f7-8f31-3b226f76227a",
   "metadata": {},
   "outputs": [],
   "source": [
    "def norm(data):\n",
    "    return (data - data.mean())/(data.max() - data.min())"
   ]
  },
  {
   "cell_type": "code",
   "execution_count": 9,
   "id": "9f2689f0-c655-4468-8353-363a8bd4cd6e",
   "metadata": {},
   "outputs": [],
   "source": [
    "def trim_signal_with_class(signal, window_size=4096, target_class=None, sampling_rate = 1):\n",
    "\n",
    "    signal = signal[::sampling_rate]\n",
    "    num_windows = len(signal) // window_size\n",
    "    \n",
    "    # Trim the signal into windows\n",
    "    X_data = np.array([signal[i * window_size:(i + 1) * window_size] for i in range(num_windows)])\n",
    "    \n",
    "    y_data = np.array([target_class]*num_windows)\n",
    "\n",
    "    return X_data, y_data\n",
    "\n",
    "def push_data(X_t, y_t, X_data, y_data):\n",
    "    for y, z in zip(X_data, y_data):\n",
    "        X_t.append(y)\n",
    "        y_t.append(z)\n",
    "\n",
    "    return X_t, y_t"
   ]
  },
  {
   "cell_type": "code",
   "execution_count": 10,
   "id": "71f69d73-bb40-4bb8-8ef3-b8658ac26319",
   "metadata": {},
   "outputs": [
    {
     "name": "stderr",
     "output_type": "stream",
     "text": [
      "2024-12-04 10:24:36.550704: I tensorflow/stream_executor/platform/default/dso_loader.cc:49] Successfully opened dynamic library libcudart.so.10.1\n"
     ]
    }
   ],
   "source": [
    "from sklearn.model_selection import train_test_split\n",
    "from tensorflow.keras.layers import Dense, Dropout, Flatten, Input\n",
    "from tensorflow.keras.layers import Conv2D, MaxPooling2D,AveragePooling2D, BatchNormalization\n",
    "from tensorflow.keras.optimizers import Adam\n",
    "from tensorflow.keras.models import Model\n",
    "from tensorflow.keras.callbacks import ReduceLROnPlateau, EarlyStopping\n",
    "from tensorflow.keras.regularizers import l2\n",
    "from multiprocessing import Pool"
   ]
  },
  {
   "cell_type": "code",
   "execution_count": 11,
   "id": "230ebdda-6f5b-4db5-933b-720c135aaec5",
   "metadata": {},
   "outputs": [],
   "source": [
    "# np.random.seed(42)\n",
    "def train_val_test_split(X, y, val_test_size=0.1):\n",
    "    indices = np.arange(X.shape[0])\n",
    "    np.random.shuffle(indices)\n",
    "    \n",
    "    # Use the shuffled indices to shuffle data and labels\n",
    "    X_shuffled = X[indices]\n",
    "    y_shuffled = y[indices]\n",
    "    \n",
    "    # Split the shuffled data into training, validation, and test sets\n",
    "    X_train, X_temp, y_train, y_temp = train_test_split(X_shuffled, y_shuffled, test_size=2*val_test_size, random_state=42)\n",
    "    X_val, X_test, y_val, y_test = train_test_split(X_temp, y_temp, test_size=0.5, random_state=42)\n",
    "\n",
    "    return X_train, X_val, X_test, y_train, y_val, y_test\n",
    "\n",
    "\n",
    "def evaluate_model(model, X_train, y_train, X_val, y_val, X_test, y_test):\n",
    "    # Evaluate model on training data\n",
    "    loss_train, acc_train = model.evaluate(X_train, y_train, verbose=0)\n",
    "    \n",
    "    print('The accuracy of the model for training data is:', acc_train * 100)\n",
    "    print('The Loss of the model for training data is:', loss_train)\n",
    "    \n",
    "    # Evaluate model on validation data\n",
    "    loss_val, acc_val = model.evaluate(X_val, y_val, verbose=0)\n",
    "    \n",
    "    print('The accuracy of the model for validation data is:', acc_val * 100)\n",
    "    print('The Loss of the model for validation data is:', loss_val)\n",
    "\n",
    "    # Evaluation\n",
    "    loss_test, acc_test = model.evaluate(X_test, y_test, verbose=0)\n",
    "    \n",
    "    print('The accuracy of the model for testing data is:', acc_test * 100)\n",
    "    print('The Loss of the model for testing data is:', loss_test)"
   ]
  },
  {
   "cell_type": "code",
   "execution_count": 12,
   "id": "460d3e5e-aef3-4025-9d7d-c545082ab44e",
   "metadata": {},
   "outputs": [],
   "source": [
    "def plot_loss_accuracy(history):\n",
    "    plt.figure(figsize=(16,4))\n",
    "    \n",
    "    # Plotting loss vs epoch\n",
    "    plt.subplot(1,2,1)\n",
    "    plt.plot(history.history['loss'], label='Training Loss')\n",
    "    plt.plot(history.history['val_loss'], label='Validation Loss')\n",
    "    plt.xlabel('Epoch')\n",
    "    plt.ylabel('Loss')\n",
    "    plt.title('Loss vs Epoch')\n",
    "    plt.legend()\n",
    "    \n",
    "    # Plotting accuracy vs epoch\n",
    "    plt.subplot(1,2,2)\n",
    "    plt.plot(history.history['accuracy'], label='Training Accuracy')\n",
    "    plt.plot(history.history['val_accuracy'], label='Validation Accuracy')\n",
    "    plt.xlabel('Epoch')\n",
    "    plt.ylabel('Accuracy')\n",
    "    plt.title('Accuracy vs Epoch')\n",
    "    plt.legend()\n",
    "    plt.show()"
   ]
  },
  {
   "cell_type": "code",
   "execution_count": 22,
   "id": "8912d3ad-54f3-42d4-9979-63320daf470b",
   "metadata": {},
   "outputs": [],
   "source": [
    "#BALANCED\n",
    "balance = 1\n",
    "\n",
    "X_DATA = []\n",
    "y_DATA = []\n",
    "classes = [0, 1, 2, 3, 2, 2]\n",
    "idx = 1\n",
    "for x in X:\n",
    "    m_idx, h_idx = find_fault_start_indices(x)\n",
    "    if m_idx is None:\n",
    "        print(\"Fault\")\n",
    "        break\n",
    "    signal_normal = x[0:m_idx//6]\n",
    "    signal_faulty = x[m_idx:]\n",
    "    \n",
    "    X_data, y_data = trim_signal_with_class(signal_normal, 256, 0, 1)\n",
    "    # X_DATA, y_DATA = push_data(X_DATA, y_DATA, X_data, y_data)\n",
    "    X_DATA, y_DATA = push_data(X_DATA, y_DATA, X_data[:len(X_data)//2], y_data[:len(X_data)//2])\n",
    "    X_data, y_data = trim_signal_with_class(signal_faulty, 256, classes[idx], 1)\n",
    "    # X_DATA, y_DATA = push_data(X_DATA, y_DATA, X_data, y_data)\n",
    "    X_DATA, y_DATA = push_data(X_DATA, y_DATA, X_data[:len(X_data)//2], y_data[:len(X_data)//2])\n",
    "    \n",
    "    if balance and idx==1:\n",
    "        for i in range(1, 8):\n",
    "            X_data, y_data = trim_signal_with_class(signal_faulty[i:], 256, classes[idx], 1)\n",
    "            X_DATA, y_DATA = push_data(X_DATA, y_DATA, X_data, y_data)\n",
    "    idx += 1\n",
    "# if balance:\n",
    "#     X_DATA = X_DATA[1000:-13200]\n",
    "#     y_DATA = y_DATA[1000:-13200]\n",
    "    \n",
    "X_DATA = np.array(X_DATA)\n",
    "y_DATA = np.array(y_DATA)"
   ]
  },
  {
   "cell_type": "code",
   "execution_count": 23,
   "id": "2476587c-d17e-470f-a213-d47bdf3ac939",
   "metadata": {},
   "outputs": [
    {
     "name": "stdout",
     "output_type": "stream",
     "text": [
      "(60198, 256)\n",
      "(60198,)\n"
     ]
    }
   ],
   "source": [
    "print(X_DATA.shape)\n",
    "print(y_DATA.shape)"
   ]
  },
  {
   "cell_type": "code",
   "execution_count": 24,
   "id": "c49b2f95-d0cb-4cf3-ae5d-3904cc783e02",
   "metadata": {},
   "outputs": [
    {
     "name": "stdout",
     "output_type": "stream",
     "text": [
      "Unique values: [0 1 2 3]\n",
      "Counts: [12169 22327 12471 13231]\n"
     ]
    }
   ],
   "source": [
    "unique_values, counts = np.unique(y_DATA, return_counts=True)\n",
    "print(\"Unique values:\", unique_values)\n",
    "print(\"Counts:\", counts)"
   ]
  },
  {
   "cell_type": "code",
   "execution_count": 25,
   "id": "6348d39d-942f-4587-b45e-31e0ab1ee660",
   "metadata": {},
   "outputs": [],
   "source": [
    "np.save(\"Bearing__2_1__2_2__2_3__2_4__2_5__signals_unsampled.npy\", X_DATA)"
   ]
  },
  {
   "cell_type": "markdown",
   "id": "17f456ff-d50e-4d51-9aa7-8eb0df9375a9",
   "metadata": {},
   "source": [
    "##### ================================================================================"
   ]
  },
  {
   "cell_type": "markdown",
   "id": "2be5befc-ddce-474e-811f-cfa5fb7b7e4e",
   "metadata": {},
   "source": [
    "### Wigner Ville Classification"
   ]
  },
  {
   "cell_type": "code",
   "execution_count": null,
   "id": "2bb72b73-3d23-4da2-b6b0-94f3dff85b1e",
   "metadata": {},
   "outputs": [],
   "source": [
    "# del X_DATA"
   ]
  },
  {
   "cell_type": "code",
   "execution_count": 27,
   "id": "22f40487-1b42-410e-a518-37f9b1a90239",
   "metadata": {},
   "outputs": [],
   "source": [
    "def wigner_ville(signal):\n",
    "    n = len(signal)\n",
    "    wvd = np.zeros((n, n), dtype=np.complex128)\n",
    "\n",
    "    for t1 in range(n):\n",
    "        for t2 in range(n):\n",
    "            tau = t2 - t1\n",
    "            if 0 <= tau < n:\n",
    "                wvd[t1, t2] = signal[t1] * np.conj(signal[t2]) if t1 != t2 else 0\n",
    "\n",
    "    return np.fft.fftshift(np.fft.fft2(wvd))"
   ]
  },
  {
   "cell_type": "code",
   "execution_count": null,
   "id": "fbe2e8a6",
   "metadata": {},
   "outputs": [],
   "source": []
  },
  {
   "cell_type": "code",
   "execution_count": 28,
   "id": "c5053606-3da3-49ed-af7f-4a7d9c5145e6",
   "metadata": {},
   "outputs": [
    {
     "name": "stderr",
     "output_type": "stream",
     "text": [
      "100%|██████████████████████████████████████████████████████████████████████████████████████████████| 21/21 [00:15<00:00,  1.38it/s]\n"
     ]
    }
   ],
   "source": [
    "from tqdm import tqdm\n",
    "import numpy as np\n",
    "\n",
    "X_image = []\n",
    "directory = \"wvd_images\"\n",
    "for batch in tqdm(range(1, 22)):\n",
    "    data = np.load(f\"{directory}/Bearing__2_1__2_2__2_3__2_4__2_5__unsampled__batch_{batch}.npy\")\n",
    "    for d in data:\n",
    "        X_image.append(d)\n",
    "X_image = np.array(X_image)"
   ]
  },
  {
   "cell_type": "code",
   "execution_count": 29,
   "id": "28ad7d14-2c9e-481d-9afb-8d32d18a5db3",
   "metadata": {},
   "outputs": [
    {
     "data": {
      "text/plain": [
       "(60198, 256, 256, 1)"
      ]
     },
     "execution_count": 29,
     "metadata": {},
     "output_type": "execute_result"
    }
   ],
   "source": [
    "X_image.shape"
   ]
  },
  {
   "cell_type": "code",
   "execution_count": 23,
   "id": "0d7b9ef5-f098-4061-adb2-ba624d6dcedf",
   "metadata": {},
   "outputs": [],
   "source": [
    "# del X_image"
   ]
  },
  {
   "cell_type": "markdown",
   "id": "c5c7f06c-dab6-4bfc-b3d9-18e91cd0951f",
   "metadata": {},
   "source": [
    "#### Training"
   ]
  },
  {
   "cell_type": "code",
   "execution_count": 30,
   "id": "cb1730b2-9e9a-4d6b-80a5-40a693c8e2de",
   "metadata": {},
   "outputs": [],
   "source": [
    "y_image = np.eye(4)[y_DATA]\n",
    "# y_image = y_DATA\n",
    "X_train, X_val, X_test, y_train, y_val, y_test = train_val_test_split(X_image, y_image, 0.1)"
   ]
  },
  {
   "cell_type": "code",
   "execution_count": 31,
   "id": "7c4be021-5887-4993-9042-21c03478965a",
   "metadata": {},
   "outputs": [],
   "source": [
    "del X_image\n",
    "del y_image"
   ]
  },
  {
   "cell_type": "code",
   "execution_count": 32,
   "id": "77a38650-a637-47da-a5a4-0ab7e24d3f93",
   "metadata": {},
   "outputs": [],
   "source": [
    "# -*- coding: utf-8 -*-\n",
    "'''ResNet model for Keras.\n",
    "\n",
    "# Reference:\n",
    "\n",
    "- [Deep Residual Learning for Image Recognition](https://arxiv.org/abs/1512.03385)\n",
    "\n",
    "Adapted from code contributed by BigMoyan.\n",
    "'''\n",
    "from __future__ import print_function\n",
    "\n",
    "import numpy as np\n",
    "import warnings\n",
    "\n",
    "\n",
    "from tensorflow.keras.layers import Input\n",
    "from tensorflow.keras import layers\n",
    "from tensorflow.keras.layers import Dense\n",
    "from tensorflow.keras.layers import Activation\n",
    "from tensorflow.keras.layers import Flatten\n",
    "from tensorflow.keras.layers import Conv2D\n",
    "from tensorflow.keras.layers import MaxPooling2D\n",
    "from tensorflow.keras.layers import GlobalMaxPooling2D\n",
    "from tensorflow.keras.layers import ZeroPadding2D\n",
    "from tensorflow.keras.layers import AveragePooling2D\n",
    "from tensorflow.keras.layers import GlobalAveragePooling2D\n",
    "from tensorflow.keras.layers import BatchNormalization\n",
    "from tensorflow.keras.models import Model\n",
    "from tensorflow.keras.preprocessing import image\n",
    "import tensorflow.keras.backend as K\n",
    "from tensorflow.keras.applications.imagenet_utils import decode_predictions\n",
    "from tensorflow.keras.initializers import HeNormal, GlorotNormal\n",
    "\n",
    "\n",
    "\n",
    "\n",
    "def identity_block(input_tensor, kernel_size, filters, stage, block):\n",
    "    \"\"\"The identity block is the block that has no conv layer at shortcut.\n",
    "\n",
    "    # Arguments\n",
    "        input_tensor: input tensor\n",
    "        kernel_size: defualt 3, the kernel size of middle conv layer at main path\n",
    "        filters: list of integers, the filterss of 3 conv layer at main path\n",
    "        stage: integer, current stage label, used for generating layer names\n",
    "        block: 'a','b'..., current block label, used for generating layer names\n",
    "\n",
    "    # Returns\n",
    "        Output tensor for the block.\n",
    "    \"\"\"\n",
    "    # filters1, filters2, filters3 = filters\n",
    "    filters1, filters3 = filters\n",
    "\n",
    "    bn_axis = 3\n",
    "    conv_name_base = 'res' + str(stage) + block + '_branch'\n",
    "    bn_name_base = 'bn' + str(stage) + block + '_branch'\n",
    "\n",
    "    x = Conv2D(filters1, (1, 1), kernel_initializer=HeNormal(), name=conv_name_base + '2a')(input_tensor)\n",
    "    x = BatchNormalization(axis=bn_axis, name=bn_name_base + '2a')(x)\n",
    "    x = Activation('relu')(x)\n",
    "\n",
    "    # x = Conv2D(filters2, kernel_size,\n",
    "    #            padding='same', name=conv_name_base + '2b')(x)\n",
    "    # x = BatchNormalization(axis=bn_axis, name=bn_name_base + '2b')(x)\n",
    "    # x = Activation('relu')(x)\n",
    "\n",
    "    x = Conv2D(filters3, (1, 1), kernel_initializer=HeNormal(), name=conv_name_base + '2c')(x)\n",
    "    x = BatchNormalization(axis=bn_axis, name=bn_name_base + '2c')(x)\n",
    "\n",
    "    x = layers.add([x, input_tensor])\n",
    "    x = Activation('relu')(x)\n",
    "    return x\n",
    "\n",
    "\n",
    "def conv_block(input_tensor, kernel_size, filters, stage, block, strides=(2, 2)):\n",
    "    \"\"\"conv_block is the block that has a conv layer at shortcut\n",
    "\n",
    "    # Arguments\n",
    "        input_tensor: input tensor\n",
    "        kernel_size: defualt 3, the kernel size of middle conv layer at main path\n",
    "        filters: list of integers, the filterss of 3 conv layer at main path\n",
    "        stage: integer, current stage label, used for generating layer names\n",
    "        block: 'a','b'..., current block label, used for generating layer names\n",
    "\n",
    "    # Returns\n",
    "        Output tensor for the block.\n",
    "\n",
    "    Note that from stage 3, the first conv layer at main path is with strides=(2,2)\n",
    "    And the shortcut should have strides=(2,2) as well\n",
    "    \"\"\"\n",
    "    # filters1, filters2, filters3 = filters\n",
    "    filters1, filters3 = filters\n",
    "    \n",
    "    bn_axis = 3\n",
    "    conv_name_base = 'res' + str(stage) + block + '_branch'\n",
    "    bn_name_base = 'bn' + str(stage) + block + '_branch'\n",
    "\n",
    "    x = Conv2D(filters1, (1, 1), kernel_initializer=HeNormal(), strides=strides,\n",
    "               name=conv_name_base + '2a')(input_tensor)\n",
    "    x = BatchNormalization(axis=bn_axis, name=bn_name_base + '2a')(x)\n",
    "    x = Activation('relu')(x)\n",
    "\n",
    "    # x = Conv2D(filters2, kernel_size, padding='same',\n",
    "    #            name=conv_name_base + '2b')(x)\n",
    "    # x = BatchNormalization(axis=bn_axis, name=bn_name_base + '2b')(x)\n",
    "    # x = Activation('relu')(x)\n",
    "\n",
    "    x = Conv2D(filters3, (1, 1), name=conv_name_base + '2c')(x)\n",
    "    x = BatchNormalization(axis=bn_axis, name=bn_name_base + '2c')(x)\n",
    "\n",
    "    shortcut = Conv2D(filters3, (1, 1), kernel_initializer=HeNormal(), strides=strides,\n",
    "                      name=conv_name_base + '1')(input_tensor)\n",
    "    shortcut = BatchNormalization(axis=bn_axis, name=bn_name_base + '1')(shortcut)\n",
    "\n",
    "    x = layers.add([x, shortcut])\n",
    "    x = Activation('relu')(x)\n",
    "    return x\n",
    "\n",
    "\n",
    "def ResNet_custom(input_shape=None, classes=4):\n",
    "\n",
    "    img_input = Input(shape=input_shape)\n",
    "    \n",
    "    bn_axis = 3\n",
    "\n",
    "    x = ZeroPadding2D((3, 3))(img_input)\n",
    "    x = Conv2D(64, (7, 7), strides=(2, 2), kernel_initializer=HeNormal(), name='conv1')(x)\n",
    "    x = BatchNormalization(axis=bn_axis, name='bn_conv1')(x)\n",
    "    x = Activation('relu')(x)\n",
    "    x = MaxPooling2D((3, 3), strides=(2, 2))(x)\n",
    "\n",
    "    x = conv_block(x, 3, [32, 32], stage=2, block='a', strides=(1, 1))\n",
    "    # x = identity_block(x, 3, [64, 256], stage=2, block='b')\n",
    "    # x = identity_block(x, 3, [64, 256], stage=2, block='c')\n",
    "\n",
    "    # x = conv_block(x, 3, [128, 512], stage=3, block='a')\n",
    "    # x = identity_block(x, 3, [128, 512], stage=3, block='b')\n",
    "    # x = identity_block(x, 3, [128, 512], stage=3, block='c')\n",
    "    # x = identity_block(x, 3, [128, 512], stage=3, block='d')\n",
    "\n",
    "    x = conv_block(x, 3, [64, 64], stage=4, block='a', strides=(1,1))\n",
    "    x = identity_block(x, 3, [64, 64], stage=4, block='b')\n",
    "    # x = identity_block(x, 3, [256, 1024], stage=4, block='c')\n",
    "    # x = identity_block(x, 3, [256, 1024], stage=4, block='d')\n",
    "    # x = identity_block(x, 3, [256, 1024], stage=4, block='e')\n",
    "    # x = identity_block(x, 3, [32, 32], stage=4, block='f')\n",
    "\n",
    "    x = conv_block(x, 3, [128, 128], stage=5, block='a', strides=(1,1))\n",
    "    # x = identity_block(x, 3, [512, 2048], stage=5, block='b')\n",
    "    # x = identity_block(x, 3, [512, 512], stage=5, block='c')\n",
    "\n",
    "    x = AveragePooling2D((7, 7), name='avg_pool')(x)\n",
    "\n",
    "    x = Flatten()(x)\n",
    "    \n",
    "    x = Dense(classes, activation='softmax', kernel_initializer=HeNormal(), name='fc10')(x)\n",
    "    \n",
    "    # Create model.\n",
    "    model = Model(img_input, x, name='resnet_custom')\n",
    "\n",
    "    # optimizer = Adam(learning_rate=0.001,beta_1=0.999)\n",
    "    optimizer = Adam(learning_rate=0.0001,beta_1=0.999)\n",
    "    model.compile(optimizer=optimizer, loss='categorical_crossentropy', metrics=['accuracy'])\n",
    "\n",
    "    return model"
   ]
  },
  {
   "cell_type": "code",
   "execution_count": 33,
   "id": "f2bc08c4-9177-41f9-87b4-40032750524b",
   "metadata": {
    "scrolled": true
   },
   "outputs": [
    {
     "name": "stderr",
     "output_type": "stream",
     "text": [
      "2024-12-04 11:09:25.313933: I tensorflow/compiler/jit/xla_cpu_device.cc:41] Not creating XLA devices, tf_xla_enable_xla_devices not set\n",
      "2024-12-04 11:09:25.575161: I tensorflow/stream_executor/platform/default/dso_loader.cc:49] Successfully opened dynamic library libcuda.so.1\n",
      "2024-12-04 11:09:25.790933: I tensorflow/core/common_runtime/gpu/gpu_device.cc:1720] Found device 0 with properties: \n",
      "pciBusID: 0000:82:00.0 name: Tesla P100-PCIE-12GB computeCapability: 6.0\n",
      "coreClock: 1.3285GHz coreCount: 56 deviceMemorySize: 11.91GiB deviceMemoryBandwidth: 511.41GiB/s\n",
      "2024-12-04 11:09:25.791021: I tensorflow/stream_executor/platform/default/dso_loader.cc:49] Successfully opened dynamic library libcudart.so.10.1\n",
      "2024-12-04 11:09:26.069517: I tensorflow/stream_executor/platform/default/dso_loader.cc:49] Successfully opened dynamic library libcublas.so.10\n",
      "2024-12-04 11:09:26.069582: I tensorflow/stream_executor/platform/default/dso_loader.cc:49] Successfully opened dynamic library libcublasLt.so.10\n",
      "2024-12-04 11:09:26.204607: I tensorflow/stream_executor/platform/default/dso_loader.cc:49] Successfully opened dynamic library libcufft.so.10\n",
      "2024-12-04 11:09:26.244098: I tensorflow/stream_executor/platform/default/dso_loader.cc:49] Successfully opened dynamic library libcurand.so.10\n",
      "2024-12-04 11:09:26.493810: I tensorflow/stream_executor/platform/default/dso_loader.cc:49] Successfully opened dynamic library libcusolver.so.10\n",
      "2024-12-04 11:09:26.522315: I tensorflow/stream_executor/platform/default/dso_loader.cc:49] Successfully opened dynamic library libcusparse.so.10\n",
      "2024-12-04 11:09:27.105068: I tensorflow/stream_executor/platform/default/dso_loader.cc:49] Successfully opened dynamic library libcudnn.so.7\n",
      "2024-12-04 11:09:27.105617: I tensorflow/core/common_runtime/gpu/gpu_device.cc:1862] Adding visible gpu devices: 0\n",
      "2024-12-04 11:09:27.126627: I tensorflow/core/platform/cpu_feature_guard.cc:142] This TensorFlow binary is optimized with oneAPI Deep Neural Network Library (oneDNN) to use the following CPU instructions in performance-critical operations:  SSE4.1 SSE4.2 AVX AVX2 FMA\n",
      "To enable them in other operations, rebuild TensorFlow with the appropriate compiler flags.\n",
      "2024-12-04 11:09:27.130063: I tensorflow/compiler/jit/xla_gpu_device.cc:99] Not creating XLA devices, tf_xla_enable_xla_devices not set\n",
      "2024-12-04 11:09:27.130359: I tensorflow/core/common_runtime/gpu/gpu_device.cc:1720] Found device 0 with properties: \n",
      "pciBusID: 0000:82:00.0 name: Tesla P100-PCIE-12GB computeCapability: 6.0\n",
      "coreClock: 1.3285GHz coreCount: 56 deviceMemorySize: 11.91GiB deviceMemoryBandwidth: 511.41GiB/s\n",
      "2024-12-04 11:09:27.130396: I tensorflow/stream_executor/platform/default/dso_loader.cc:49] Successfully opened dynamic library libcudart.so.10.1\n",
      "2024-12-04 11:09:27.130425: I tensorflow/stream_executor/platform/default/dso_loader.cc:49] Successfully opened dynamic library libcublas.so.10\n",
      "2024-12-04 11:09:27.130454: I tensorflow/stream_executor/platform/default/dso_loader.cc:49] Successfully opened dynamic library libcublasLt.so.10\n",
      "2024-12-04 11:09:27.130481: I tensorflow/stream_executor/platform/default/dso_loader.cc:49] Successfully opened dynamic library libcufft.so.10\n",
      "2024-12-04 11:09:27.130508: I tensorflow/stream_executor/platform/default/dso_loader.cc:49] Successfully opened dynamic library libcurand.so.10\n",
      "2024-12-04 11:09:27.130535: I tensorflow/stream_executor/platform/default/dso_loader.cc:49] Successfully opened dynamic library libcusolver.so.10\n",
      "2024-12-04 11:09:27.130562: I tensorflow/stream_executor/platform/default/dso_loader.cc:49] Successfully opened dynamic library libcusparse.so.10\n",
      "2024-12-04 11:09:27.130589: I tensorflow/stream_executor/platform/default/dso_loader.cc:49] Successfully opened dynamic library libcudnn.so.7\n",
      "2024-12-04 11:09:27.130953: I tensorflow/core/common_runtime/gpu/gpu_device.cc:1862] Adding visible gpu devices: 0\n",
      "2024-12-04 11:09:27.151484: I tensorflow/stream_executor/platform/default/dso_loader.cc:49] Successfully opened dynamic library libcudart.so.10.1\n",
      "2024-12-04 11:09:31.533249: I tensorflow/core/common_runtime/gpu/gpu_device.cc:1261] Device interconnect StreamExecutor with strength 1 edge matrix:\n",
      "2024-12-04 11:09:31.533281: I tensorflow/core/common_runtime/gpu/gpu_device.cc:1267]      0 \n",
      "2024-12-04 11:09:31.533294: I tensorflow/core/common_runtime/gpu/gpu_device.cc:1280] 0:   N \n",
      "2024-12-04 11:09:31.551973: I tensorflow/core/common_runtime/gpu/gpu_device.cc:1406] Created TensorFlow device (/job:localhost/replica:0/task:0/device:GPU:0 with 11118 MB memory) -> physical GPU (device: 0, name: Tesla P100-PCIE-12GB, pci bus id: 0000:82:00.0, compute capability: 6.0)\n"
     ]
    }
   ],
   "source": [
    "model = ResNet_custom(input_shape=X_train.shape[1:], classes=4)"
   ]
  },
  {
   "cell_type": "code",
   "execution_count": 34,
   "id": "b4a6f6d3-26ee-4f37-85d8-1452d157d335",
   "metadata": {
    "scrolled": true
   },
   "outputs": [
    {
     "name": "stdout",
     "output_type": "stream",
     "text": [
      "Model: \"resnet_custom\"\n",
      "__________________________________________________________________________________________________\n",
      "Layer (type)                    Output Shape         Param #     Connected to                     \n",
      "==================================================================================================\n",
      "input_1 (InputLayer)            [(None, 256, 256, 1) 0                                            \n",
      "__________________________________________________________________________________________________\n",
      "zero_padding2d (ZeroPadding2D)  (None, 262, 262, 1)  0           input_1[0][0]                    \n",
      "__________________________________________________________________________________________________\n",
      "conv1 (Conv2D)                  (None, 128, 128, 64) 3200        zero_padding2d[0][0]             \n",
      "__________________________________________________________________________________________________\n",
      "bn_conv1 (BatchNormalization)   (None, 128, 128, 64) 256         conv1[0][0]                      \n",
      "__________________________________________________________________________________________________\n",
      "activation (Activation)         (None, 128, 128, 64) 0           bn_conv1[0][0]                   \n",
      "__________________________________________________________________________________________________\n",
      "max_pooling2d (MaxPooling2D)    (None, 63, 63, 64)   0           activation[0][0]                 \n",
      "__________________________________________________________________________________________________\n",
      "res2a_branch2a (Conv2D)         (None, 63, 63, 32)   2080        max_pooling2d[0][0]              \n",
      "__________________________________________________________________________________________________\n",
      "bn2a_branch2a (BatchNormalizati (None, 63, 63, 32)   128         res2a_branch2a[0][0]             \n",
      "__________________________________________________________________________________________________\n",
      "activation_1 (Activation)       (None, 63, 63, 32)   0           bn2a_branch2a[0][0]              \n",
      "__________________________________________________________________________________________________\n",
      "res2a_branch2c (Conv2D)         (None, 63, 63, 32)   1056        activation_1[0][0]               \n",
      "__________________________________________________________________________________________________\n",
      "res2a_branch1 (Conv2D)          (None, 63, 63, 32)   2080        max_pooling2d[0][0]              \n",
      "__________________________________________________________________________________________________\n",
      "bn2a_branch2c (BatchNormalizati (None, 63, 63, 32)   128         res2a_branch2c[0][0]             \n",
      "__________________________________________________________________________________________________\n",
      "bn2a_branch1 (BatchNormalizatio (None, 63, 63, 32)   128         res2a_branch1[0][0]              \n",
      "__________________________________________________________________________________________________\n",
      "add (Add)                       (None, 63, 63, 32)   0           bn2a_branch2c[0][0]              \n",
      "                                                                 bn2a_branch1[0][0]               \n",
      "__________________________________________________________________________________________________\n",
      "activation_2 (Activation)       (None, 63, 63, 32)   0           add[0][0]                        \n",
      "__________________________________________________________________________________________________\n",
      "res4a_branch2a (Conv2D)         (None, 63, 63, 64)   2112        activation_2[0][0]               \n",
      "__________________________________________________________________________________________________\n",
      "bn4a_branch2a (BatchNormalizati (None, 63, 63, 64)   256         res4a_branch2a[0][0]             \n",
      "__________________________________________________________________________________________________\n",
      "activation_3 (Activation)       (None, 63, 63, 64)   0           bn4a_branch2a[0][0]              \n",
      "__________________________________________________________________________________________________\n",
      "res4a_branch2c (Conv2D)         (None, 63, 63, 64)   4160        activation_3[0][0]               \n",
      "__________________________________________________________________________________________________\n",
      "res4a_branch1 (Conv2D)          (None, 63, 63, 64)   2112        activation_2[0][0]               \n",
      "__________________________________________________________________________________________________\n",
      "bn4a_branch2c (BatchNormalizati (None, 63, 63, 64)   256         res4a_branch2c[0][0]             \n",
      "__________________________________________________________________________________________________\n",
      "bn4a_branch1 (BatchNormalizatio (None, 63, 63, 64)   256         res4a_branch1[0][0]              \n",
      "__________________________________________________________________________________________________\n",
      "add_1 (Add)                     (None, 63, 63, 64)   0           bn4a_branch2c[0][0]              \n",
      "                                                                 bn4a_branch1[0][0]               \n",
      "__________________________________________________________________________________________________\n",
      "activation_4 (Activation)       (None, 63, 63, 64)   0           add_1[0][0]                      \n",
      "__________________________________________________________________________________________________\n",
      "res4b_branch2a (Conv2D)         (None, 63, 63, 64)   4160        activation_4[0][0]               \n",
      "__________________________________________________________________________________________________\n",
      "bn4b_branch2a (BatchNormalizati (None, 63, 63, 64)   256         res4b_branch2a[0][0]             \n",
      "__________________________________________________________________________________________________\n",
      "activation_5 (Activation)       (None, 63, 63, 64)   0           bn4b_branch2a[0][0]              \n",
      "__________________________________________________________________________________________________\n",
      "res4b_branch2c (Conv2D)         (None, 63, 63, 64)   4160        activation_5[0][0]               \n",
      "__________________________________________________________________________________________________\n",
      "bn4b_branch2c (BatchNormalizati (None, 63, 63, 64)   256         res4b_branch2c[0][0]             \n",
      "__________________________________________________________________________________________________\n",
      "add_2 (Add)                     (None, 63, 63, 64)   0           bn4b_branch2c[0][0]              \n",
      "                                                                 activation_4[0][0]               \n",
      "__________________________________________________________________________________________________\n",
      "activation_6 (Activation)       (None, 63, 63, 64)   0           add_2[0][0]                      \n",
      "__________________________________________________________________________________________________\n",
      "res5a_branch2a (Conv2D)         (None, 63, 63, 128)  8320        activation_6[0][0]               \n",
      "__________________________________________________________________________________________________\n",
      "bn5a_branch2a (BatchNormalizati (None, 63, 63, 128)  512         res5a_branch2a[0][0]             \n",
      "__________________________________________________________________________________________________\n",
      "activation_7 (Activation)       (None, 63, 63, 128)  0           bn5a_branch2a[0][0]              \n",
      "__________________________________________________________________________________________________\n",
      "res5a_branch2c (Conv2D)         (None, 63, 63, 128)  16512       activation_7[0][0]               \n",
      "__________________________________________________________________________________________________\n",
      "res5a_branch1 (Conv2D)          (None, 63, 63, 128)  8320        activation_6[0][0]               \n",
      "__________________________________________________________________________________________________\n",
      "bn5a_branch2c (BatchNormalizati (None, 63, 63, 128)  512         res5a_branch2c[0][0]             \n",
      "__________________________________________________________________________________________________\n",
      "bn5a_branch1 (BatchNormalizatio (None, 63, 63, 128)  512         res5a_branch1[0][0]              \n",
      "__________________________________________________________________________________________________\n",
      "add_3 (Add)                     (None, 63, 63, 128)  0           bn5a_branch2c[0][0]              \n",
      "                                                                 bn5a_branch1[0][0]               \n",
      "__________________________________________________________________________________________________\n",
      "activation_8 (Activation)       (None, 63, 63, 128)  0           add_3[0][0]                      \n",
      "__________________________________________________________________________________________________\n",
      "avg_pool (AveragePooling2D)     (None, 9, 9, 128)    0           activation_8[0][0]               \n",
      "__________________________________________________________________________________________________\n",
      "flatten (Flatten)               (None, 10368)        0           avg_pool[0][0]                   \n",
      "__________________________________________________________________________________________________\n",
      "fc10 (Dense)                    (None, 4)            41476       flatten[0][0]                    \n",
      "==================================================================================================\n",
      "Total params: 103,204\n",
      "Trainable params: 101,476\n",
      "Non-trainable params: 1,728\n",
      "__________________________________________________________________________________________________\n"
     ]
    }
   ],
   "source": [
    "model.summary()"
   ]
  },
  {
   "cell_type": "code",
   "execution_count": 35,
   "id": "d692decd-b742-4506-a776-7cf002725800",
   "metadata": {
    "scrolled": true
   },
   "outputs": [
    {
     "name": "stderr",
     "output_type": "stream",
     "text": [
      "2024-12-04 11:09:55.389399: W tensorflow/core/framework/cpu_allocator_impl.cc:80] Allocation of 12624330752 exceeds 10% of free system memory.\n",
      "2024-12-04 11:10:04.868663: I tensorflow/compiler/mlir/mlir_graph_optimization_pass.cc:116] None of the MLIR optimization passes are enabled (registered 2)\n",
      "2024-12-04 11:10:04.958136: I tensorflow/core/platform/profile_utils/cpu_utils.cc:112] CPU Frequency: 2200140000 Hz\n"
     ]
    },
    {
     "name": "stdout",
     "output_type": "stream",
     "text": [
      "Epoch 1/30\n"
     ]
    },
    {
     "name": "stderr",
     "output_type": "stream",
     "text": [
      "2024-12-04 11:10:06.565163: I tensorflow/stream_executor/platform/default/dso_loader.cc:49] Successfully opened dynamic library libcublas.so.10\n",
      "2024-12-04 11:10:08.191987: I tensorflow/stream_executor/platform/default/dso_loader.cc:49] Successfully opened dynamic library libcudnn.so.7\n"
     ]
    },
    {
     "name": "stdout",
     "output_type": "stream",
     "text": [
      "1505/1505 [==============================] - 95s 57ms/step - loss: 0.3175 - accuracy: 0.8856 - val_loss: 0.0327 - val_accuracy: 0.9900\n",
      "Epoch 2/30\n",
      "1505/1505 [==============================] - 83s 55ms/step - loss: 0.0294 - accuracy: 0.9896 - val_loss: 0.0317 - val_accuracy: 0.9882\n",
      "Epoch 3/30\n",
      "1505/1505 [==============================] - 83s 55ms/step - loss: 0.0211 - accuracy: 0.9923 - val_loss: 0.0262 - val_accuracy: 0.9907\n",
      "Epoch 4/30\n",
      "1505/1505 [==============================] - 83s 55ms/step - loss: 0.0135 - accuracy: 0.9953 - val_loss: 0.0091 - val_accuracy: 0.9970\n",
      "Epoch 5/30\n",
      "1505/1505 [==============================] - 82s 55ms/step - loss: 0.0048 - accuracy: 0.9982 - val_loss: 0.0082 - val_accuracy: 0.9977\n",
      "Epoch 6/30\n",
      "1505/1505 [==============================] - 82s 55ms/step - loss: 0.0048 - accuracy: 0.9987 - val_loss: 0.0081 - val_accuracy: 0.9975\n",
      "Epoch 7/30\n",
      "1505/1505 [==============================] - 83s 55ms/step - loss: 0.0053 - accuracy: 0.9982 - val_loss: 0.0104 - val_accuracy: 0.9967\n",
      "Epoch 8/30\n",
      "1505/1505 [==============================] - 82s 54ms/step - loss: 0.0038 - accuracy: 0.9987 - val_loss: 0.0153 - val_accuracy: 0.9944\n",
      "Epoch 9/30\n",
      "1505/1505 [==============================] - 82s 55ms/step - loss: 0.0052 - accuracy: 0.9985 - val_loss: 0.0077 - val_accuracy: 0.9978\n",
      "Epoch 10/30\n",
      "1505/1505 [==============================] - 82s 54ms/step - loss: 0.0044 - accuracy: 0.9985 - val_loss: 0.0044 - val_accuracy: 0.9992\n",
      "Epoch 11/30\n",
      "1505/1505 [==============================] - 82s 54ms/step - loss: 0.0014 - accuracy: 0.9997 - val_loss: 0.0049 - val_accuracy: 0.9982\n",
      "Epoch 12/30\n",
      "1505/1505 [==============================] - 82s 54ms/step - loss: 0.0012 - accuracy: 0.9996 - val_loss: 0.0039 - val_accuracy: 0.9983\n",
      "Epoch 13/30\n",
      "1505/1505 [==============================] - 82s 54ms/step - loss: 6.7460e-04 - accuracy: 0.9999 - val_loss: 0.0040 - val_accuracy: 0.9990\n",
      "Epoch 14/30\n",
      "1505/1505 [==============================] - 82s 54ms/step - loss: 0.0010 - accuracy: 0.9997 - val_loss: 0.0033 - val_accuracy: 0.9993\n",
      "Epoch 15/30\n",
      "1505/1505 [==============================] - 82s 54ms/step - loss: 0.0011 - accuracy: 0.9996 - val_loss: 0.0040 - val_accuracy: 0.9990\n",
      "Epoch 16/30\n",
      "1505/1505 [==============================] - 82s 54ms/step - loss: 0.0011 - accuracy: 0.9998 - val_loss: 0.0098 - val_accuracy: 0.9972\n",
      "Epoch 17/30\n",
      "1505/1505 [==============================] - 82s 54ms/step - loss: 6.2312e-04 - accuracy: 0.9998 - val_loss: 0.0025 - val_accuracy: 0.9995\n",
      "Epoch 18/30\n",
      "1505/1505 [==============================] - 82s 54ms/step - loss: 2.0463e-04 - accuracy: 1.0000 - val_loss: 0.0045 - val_accuracy: 0.9990\n",
      "Epoch 19/30\n",
      "1505/1505 [==============================] - 82s 54ms/step - loss: 3.2572e-04 - accuracy: 0.9999 - val_loss: 0.0029 - val_accuracy: 0.9992\n",
      "Epoch 20/30\n",
      "1505/1505 [==============================] - 82s 54ms/step - loss: 4.7238e-04 - accuracy: 0.9999 - val_loss: 0.0060 - val_accuracy: 0.9987\n",
      "Epoch 21/30\n",
      "1505/1505 [==============================] - 82s 54ms/step - loss: 0.0011 - accuracy: 0.9997 - val_loss: 0.0070 - val_accuracy: 0.9982\n",
      "Epoch 22/30\n",
      "1505/1505 [==============================] - 82s 54ms/step - loss: 0.0013 - accuracy: 0.9996 - val_loss: 0.0027 - val_accuracy: 0.9987\n",
      "Epoch 23/30\n",
      "1505/1505 [==============================] - 82s 55ms/step - loss: 0.0016 - accuracy: 0.9995 - val_loss: 0.0076 - val_accuracy: 0.9985\n",
      "Epoch 24/30\n",
      "1505/1505 [==============================] - 82s 54ms/step - loss: 7.5552e-04 - accuracy: 0.9998 - val_loss: 0.0035 - val_accuracy: 0.9990\n",
      "Epoch 25/30\n",
      "1505/1505 [==============================] - 82s 54ms/step - loss: 0.0011 - accuracy: 0.9997 - val_loss: 0.0058 - val_accuracy: 0.9977\n",
      "Epoch 26/30\n",
      "1505/1505 [==============================] - 82s 54ms/step - loss: 0.0012 - accuracy: 0.9997 - val_loss: 0.0079 - val_accuracy: 0.9978\n",
      "Epoch 27/30\n",
      "1505/1505 [==============================] - 82s 54ms/step - loss: 0.0014 - accuracy: 0.9994 - val_loss: 0.0032 - val_accuracy: 0.9997\n",
      "Epoch 28/30\n",
      "1505/1505 [==============================] - 82s 55ms/step - loss: 6.1477e-04 - accuracy: 0.9999 - val_loss: 0.0077 - val_accuracy: 0.9980\n",
      "Epoch 29/30\n",
      "1505/1505 [==============================] - 82s 54ms/step - loss: 3.7793e-04 - accuracy: 0.9999 - val_loss: 0.0044 - val_accuracy: 0.9988\n",
      "Epoch 30/30\n",
      "1505/1505 [==============================] - 82s 54ms/step - loss: 5.3391e-04 - accuracy: 0.9998 - val_loss: 0.0094 - val_accuracy: 0.9982\n"
     ]
    }
   ],
   "source": [
    "history = model.fit(X_train, y_train, validation_data=(X_val, y_val), epochs=30)"
   ]
  },
  {
   "cell_type": "code",
   "execution_count": 36,
   "id": "3f3ef4fb-c130-4c80-8b37-609d0830d8ae",
   "metadata": {},
   "outputs": [
    {
     "data": {
      "image/png": "[encoded data removed]",
      "text/plain": [
       "<Figure size 1600x400 with 2 Axes>"
      ]
     },
     "metadata": {},
     "output_type": "display_data"
    }
   ],
   "source": [
    "plot_loss_accuracy(history)"
   ]
  },
  {
   "cell_type": "code",
   "execution_count": 37,
   "id": "6bebef2a-93b3-41d3-8b7a-597e622cf180",
   "metadata": {},
   "outputs": [
    {
     "name": "stderr",
     "output_type": "stream",
     "text": [
      "2024-12-04 12:14:40.438787: W tensorflow/core/framework/cpu_allocator_impl.cc:80] Allocation of 12624330752 exceeds 10% of free system memory.\n"
     ]
    },
    {
     "name": "stdout",
     "output_type": "stream",
     "text": [
      "The accuracy of the model for training data is: 99.97300505638123\n",
      "The Loss of the model for training data is: 0.0006621084176003933\n",
      "The accuracy of the model for validation data is: 99.81727600097656\n",
      "The Loss of the model for validation data is: 0.009442788548767567\n",
      "The accuracy of the model for testing data is: 99.83388781547546\n",
      "The Loss of the model for testing data is: 0.0068574766628444195\n"
     ]
    }
   ],
   "source": [
    "evaluate_model(model, X_train, y_train, X_val, y_val, X_test, y_test)"
   ]
  },
  {
   "cell_type": "code",
   "execution_count": null,
   "id": "4e630c10",
   "metadata": {},
   "outputs": [],
   "source": []
  },
  {
   "cell_type": "code",
   "execution_count": 38,
   "id": "9f4a3374-5539-4bd6-ae41-27621f502c51",
   "metadata": {},
   "outputs": [],
   "source": [
    "model.save(\"Bearing__2_1__2_2__2_3__2_4__2_5__unsampled__model.h5\")"
   ]
  },
  {
   "cell_type": "code",
   "execution_count": 39,
   "id": "475ecfc7-1166-4aec-97b5-c1e18727d83c",
   "metadata": {},
   "outputs": [
    {
     "data": {
      "image/png": "[encoded data removed]",
      "text/plain": [
       "<Figure size 600x600 with 1 Axes>"
      ]
     },
     "metadata": {},
     "output_type": "display_data"
    }
   ],
   "source": [
    "import numpy as np\n",
    "import seaborn as sns\n",
    "import matplotlib.pyplot as plt\n",
    "from sklearn.metrics import confusion_matrix\n",
    "\n",
    "y_true = np.argmax(y_test, axis=1)\n",
    "y_pred = np.argmax(model.predict(X_test), axis=1)\n",
    "\n",
    "conf_matrix = confusion_matrix(y_true, y_pred)\n",
    "\n",
    "plt.figure(figsize=(6, 6))\n",
    "sns.heatmap(conf_matrix, annot=True, fmt='d', cmap='Blues', cbar=False)\n",
    "#plot\n",
    "plt.xlabel('Predicted Label')\n",
    "plt.ylabel('True Label')\n",
    "plt.title('Confusion Matrix')\n",
    "plt.show()"
   ]
  },
  {
   "cell_type": "markdown",
   "id": "f92afe11-d980-4996-9da4-5fdcf58d724a",
   "metadata": {},
   "source": [
    "### Test on Other"
   ]
  },
  {
   "cell_type": "code",
   "execution_count": 40,
   "id": "c5b7d124-3441-414f-ba76-c55a05fc3f61",
   "metadata": {
    "scrolled": true
   },
   "outputs": [],
   "source": [
    "from tensorflow.keras.models import load_model\n",
    "model = load_model(\"Bearing__2_1__2_2__2_3__2_4__2_5__unsampled__model.h5\")"
   ]
  },
  {
   "cell_type": "code",
   "execution_count": 41,
   "id": "8d262355-4769-4be2-bf5b-9fa87106ed68",
   "metadata": {
    "scrolled": true
   },
   "outputs": [
    {
     "name": "stdout",
     "output_type": "stream",
     "text": [
      "Model: \"resnet_custom\"\n",
      "__________________________________________________________________________________________________\n",
      "Layer (type)                    Output Shape         Param #     Connected to                     \n",
      "==================================================================================================\n",
      "input_1 (InputLayer)            [(None, 256, 256, 1) 0                                            \n",
      "__________________________________________________________________________________________________\n",
      "zero_padding2d (ZeroPadding2D)  (None, 262, 262, 1)  0           input_1[0][0]                    \n",
      "__________________________________________________________________________________________________\n",
      "conv1 (Conv2D)                  (None, 128, 128, 64) 3200        zero_padding2d[0][0]             \n",
      "__________________________________________________________________________________________________\n",
      "bn_conv1 (BatchNormalization)   (None, 128, 128, 64) 256         conv1[0][0]                      \n",
      "__________________________________________________________________________________________________\n",
      "activation (Activation)         (None, 128, 128, 64) 0           bn_conv1[0][0]                   \n",
      "__________________________________________________________________________________________________\n",
      "max_pooling2d (MaxPooling2D)    (None, 63, 63, 64)   0           activation[0][0]                 \n",
      "__________________________________________________________________________________________________\n",
      "res2a_branch2a (Conv2D)         (None, 63, 63, 32)   2080        max_pooling2d[0][0]              \n",
      "__________________________________________________________________________________________________\n",
      "bn2a_branch2a (BatchNormalizati (None, 63, 63, 32)   128         res2a_branch2a[0][0]             \n",
      "__________________________________________________________________________________________________\n",
      "activation_1 (Activation)       (None, 63, 63, 32)   0           bn2a_branch2a[0][0]              \n",
      "__________________________________________________________________________________________________\n",
      "res2a_branch2c (Conv2D)         (None, 63, 63, 32)   1056        activation_1[0][0]               \n",
      "__________________________________________________________________________________________________\n",
      "res2a_branch1 (Conv2D)          (None, 63, 63, 32)   2080        max_pooling2d[0][0]              \n",
      "__________________________________________________________________________________________________\n",
      "bn2a_branch2c (BatchNormalizati (None, 63, 63, 32)   128         res2a_branch2c[0][0]             \n",
      "__________________________________________________________________________________________________\n",
      "bn2a_branch1 (BatchNormalizatio (None, 63, 63, 32)   128         res2a_branch1[0][0]              \n",
      "__________________________________________________________________________________________________\n",
      "add (Add)                       (None, 63, 63, 32)   0           bn2a_branch2c[0][0]              \n",
      "                                                                 bn2a_branch1[0][0]               \n",
      "__________________________________________________________________________________________________\n",
      "activation_2 (Activation)       (None, 63, 63, 32)   0           add[0][0]                        \n",
      "__________________________________________________________________________________________________\n",
      "res4a_branch2a (Conv2D)         (None, 63, 63, 64)   2112        activation_2[0][0]               \n",
      "__________________________________________________________________________________________________\n",
      "bn4a_branch2a (BatchNormalizati (None, 63, 63, 64)   256         res4a_branch2a[0][0]             \n",
      "__________________________________________________________________________________________________\n",
      "activation_3 (Activation)       (None, 63, 63, 64)   0           bn4a_branch2a[0][0]              \n",
      "__________________________________________________________________________________________________\n",
      "res4a_branch2c (Conv2D)         (None, 63, 63, 64)   4160        activation_3[0][0]               \n",
      "__________________________________________________________________________________________________\n",
      "res4a_branch1 (Conv2D)          (None, 63, 63, 64)   2112        activation_2[0][0]               \n",
      "__________________________________________________________________________________________________\n",
      "bn4a_branch2c (BatchNormalizati (None, 63, 63, 64)   256         res4a_branch2c[0][0]             \n",
      "__________________________________________________________________________________________________\n",
      "bn4a_branch1 (BatchNormalizatio (None, 63, 63, 64)   256         res4a_branch1[0][0]              \n",
      "__________________________________________________________________________________________________\n",
      "add_1 (Add)                     (None, 63, 63, 64)   0           bn4a_branch2c[0][0]              \n",
      "                                                                 bn4a_branch1[0][0]               \n",
      "__________________________________________________________________________________________________\n",
      "activation_4 (Activation)       (None, 63, 63, 64)   0           add_1[0][0]                      \n",
      "__________________________________________________________________________________________________\n",
      "res4b_branch2a (Conv2D)         (None, 63, 63, 64)   4160        activation_4[0][0]               \n",
      "__________________________________________________________________________________________________\n",
      "bn4b_branch2a (BatchNormalizati (None, 63, 63, 64)   256         res4b_branch2a[0][0]             \n",
      "__________________________________________________________________________________________________\n",
      "activation_5 (Activation)       (None, 63, 63, 64)   0           bn4b_branch2a[0][0]              \n",
      "__________________________________________________________________________________________________\n",
      "res4b_branch2c (Conv2D)         (None, 63, 63, 64)   4160        activation_5[0][0]               \n",
      "__________________________________________________________________________________________________\n",
      "bn4b_branch2c (BatchNormalizati (None, 63, 63, 64)   256         res4b_branch2c[0][0]             \n",
      "__________________________________________________________________________________________________\n",
      "add_2 (Add)                     (None, 63, 63, 64)   0           bn4b_branch2c[0][0]              \n",
      "                                                                 activation_4[0][0]               \n",
      "__________________________________________________________________________________________________\n",
      "activation_6 (Activation)       (None, 63, 63, 64)   0           add_2[0][0]                      \n",
      "__________________________________________________________________________________________________\n",
      "res5a_branch2a (Conv2D)         (None, 63, 63, 128)  8320        activation_6[0][0]               \n",
      "__________________________________________________________________________________________________\n",
      "bn5a_branch2a (BatchNormalizati (None, 63, 63, 128)  512         res5a_branch2a[0][0]             \n",
      "__________________________________________________________________________________________________\n",
      "activation_7 (Activation)       (None, 63, 63, 128)  0           bn5a_branch2a[0][0]              \n",
      "__________________________________________________________________________________________________\n",
      "res5a_branch2c (Conv2D)         (None, 63, 63, 128)  16512       activation_7[0][0]               \n",
      "__________________________________________________________________________________________________\n",
      "res5a_branch1 (Conv2D)          (None, 63, 63, 128)  8320        activation_6[0][0]               \n",
      "__________________________________________________________________________________________________\n",
      "bn5a_branch2c (BatchNormalizati (None, 63, 63, 128)  512         res5a_branch2c[0][0]             \n",
      "__________________________________________________________________________________________________\n",
      "bn5a_branch1 (BatchNormalizatio (None, 63, 63, 128)  512         res5a_branch1[0][0]              \n",
      "__________________________________________________________________________________________________\n",
      "add_3 (Add)                     (None, 63, 63, 128)  0           bn5a_branch2c[0][0]              \n",
      "                                                                 bn5a_branch1[0][0]               \n",
      "__________________________________________________________________________________________________\n",
      "activation_8 (Activation)       (None, 63, 63, 128)  0           add_3[0][0]                      \n",
      "__________________________________________________________________________________________________\n",
      "avg_pool (AveragePooling2D)     (None, 9, 9, 128)    0           activation_8[0][0]               \n",
      "__________________________________________________________________________________________________\n",
      "flatten (Flatten)               (None, 10368)        0           avg_pool[0][0]                   \n",
      "__________________________________________________________________________________________________\n",
      "fc10 (Dense)                    (None, 4)            41476       flatten[0][0]                    \n",
      "==================================================================================================\n",
      "Total params: 103,204\n",
      "Trainable params: 101,476\n",
      "Non-trainable params: 1,728\n",
      "__________________________________________________________________________________________________\n"
     ]
    }
   ],
   "source": [
    "model.summary()"
   ]
  },
  {
   "cell_type": "code",
   "execution_count": 24,
   "id": "6a40b4d9-936f-4646-8024-96047fd1ad3b",
   "metadata": {},
   "outputs": [
    {
     "name": "stderr",
     "output_type": "stream",
     "text": [
      "2024-11-19 17:54:04.997701: W tensorflow/core/framework/cpu_allocator_impl.cc:80] Allocation of 11803820032 exceeds 10% of free system memory.\n",
      "2024-11-19 17:54:13.122094: I tensorflow/compiler/mlir/mlir_graph_optimization_pass.cc:116] None of the MLIR optimization passes are enabled (registered 2)\n",
      "2024-11-19 17:54:13.142571: I tensorflow/core/platform/profile_utils/cpu_utils.cc:112] CPU Frequency: 2199915000 Hz\n",
      "2024-11-19 17:54:13.562458: I tensorflow/stream_executor/platform/default/dso_loader.cc:49] Successfully opened dynamic library libcublas.so.10\n",
      "2024-11-19 17:54:13.773187: I tensorflow/stream_executor/platform/default/dso_loader.cc:49] Successfully opened dynamic library libcudnn.so.7\n"
     ]
    },
    {
     "name": "stdout",
     "output_type": "stream",
     "text": [
      "The accuracy of the model for training data is: 99.98001456260681\n",
      "The Loss of the model for training data is: 0.0008645298657938838\n",
      "The accuracy of the model for validation data is: 99.98223781585693\n",
      "The Loss of the model for validation data is: 0.0003822508151642978\n",
      "The accuracy of the model for testing data is: 99.98223781585693\n",
      "The Loss of the model for testing data is: 0.0003646984987426549\n"
     ]
    }
   ],
   "source": [
    "evaluate_model(model, X_train, y_train, X_val, y_val, X_test, y_test)"
   ]
  },
  {
   "cell_type": "code",
   "execution_count": 25,
   "id": "294bd252-1032-4375-8ffa-585344e3547c",
   "metadata": {},
   "outputs": [
    {
     "data": {
      "image/png": "[encoded data removed]",
      "text/plain": [
       "<Figure size 600x600 with 1 Axes>"
      ]
     },
     "metadata": {},
     "output_type": "display_data"
    }
   ],
   "source": [
    "import numpy as np\n",
    "import seaborn as sns\n",
    "import matplotlib.pyplot as plt\n",
    "from sklearn.metrics import confusion_matrix\n",
    "\n",
    "y_true = np.argmax(y_test, axis=1)\n",
    "y_pred = np.argmax(model.predict(X_test), axis=1)\n",
    "\n",
    "conf_matrix = confusion_matrix(y_true, y_pred)\n",
    "\n",
    "plt.figure(figsize=(6, 6))\n",
    "sns.heatmap(conf_matrix, annot=True, fmt='d', cmap='Blues', cbar=False)\n",
    "#plot\n",
    "plt.xlabel('Predicted Label')\n",
    "plt.ylabel('True Label')\n",
    "plt.title('Confusion Matrix')\n",
    "plt.show()"
   ]
  },
  {
   "cell_type": "markdown",
   "id": "7239c5d1-7f23-4823-a930-bffb8ae77ac5",
   "metadata": {},
   "source": [
    "#### Test on 2_4, 2_5"
   ]
  },
  {
   "cell_type": "code",
   "execution_count": 27,
   "id": "6bdd3e3d-8fa7-4047-978d-15651a782c8e",
   "metadata": {},
   "outputs": [
    {
     "name": "stderr",
     "output_type": "stream",
     "text": [
      "100%|████████████████████████████████████████████████████████████████████████████████████████████████| 2/2 [00:05<00:00,  2.51s/it]\n"
     ]
    }
   ],
   "source": [
    "X_t = []\n",
    "f_t = [8, 9]\n",
    "for idx in tqdm(f_t):\n",
    "    path = folders[idx]\n",
    "    files = sorted(int(f.split('.')[0]) for f in os.listdir(path))\n",
    "    all_horizontal_data = np.concatenate([get_vibrationdata(os.path.join(path, f'{f}.csv'))[1:, 0] for f in files])\n",
    "    X_t.append(all_horizontal_data)"
   ]
  },
  {
   "cell_type": "code",
   "execution_count": 28,
   "id": "72497fbb-1a15-4984-84f8-13be979126bf",
   "metadata": {},
   "outputs": [
    {
     "name": "stdout",
     "output_type": "stream",
     "text": [
      "size of signal 1343\n",
      "size of signal 10847\n"
     ]
    }
   ],
   "source": [
    "\n",
    "X_DATA_t = []\n",
    "y_DATA_t = []\n",
    "classes = [0, 2]\n",
    "idx = 1\n",
    "for x in X_t:\n",
    "    m_idx, h_idx = find_fault_start_indices(x)\n",
    "    if m_idx is None:\n",
    "        print(\"Fault\")\n",
    "        break\n",
    "    signal_normal = x[0:m_idx]\n",
    "    signal_faulty = x[m_idx:]\n",
    "    \n",
    "    X_data_t, y_data_t = trim_signal_with_class(signal_normal, 256, 0, 4)\n",
    "    X_DATA_t, y_DATA_t = push_data(X_DATA_t, y_DATA_t, X_data_t, y_data_t)\n",
    "    X_data_t, y_data_t = trim_signal_with_class(signal_faulty, 256, classes[idx], 4)\n",
    "    X_DATA_t, y_DATA_t = push_data(X_DATA_t, y_DATA_t, X_data_t, y_data_t)\n",
    "    print(f\"size of signal {len(x)//(4*256)}\")\n",
    "    \n",
    "X_DATA_t = np.array(X_DATA_t)\n",
    "y_DATA_t = np.array(y_DATA_t)"
   ]
  },
  {
   "cell_type": "code",
   "execution_count": 29,
   "id": "8903f90c-00c1-4c18-9ddc-9d8ba31e5a15",
   "metadata": {},
   "outputs": [
    {
     "data": {
      "text/plain": [
       "(12190, 256)"
      ]
     },
     "execution_count": 29,
     "metadata": {},
     "output_type": "execute_result"
    }
   ],
   "source": [
    "X_DATA_t.shape"
   ]
  },
  {
   "cell_type": "code",
   "execution_count": 30,
   "id": "55704aba-5325-43ef-8db6-cff7573d522f",
   "metadata": {},
   "outputs": [],
   "source": [
    "np.save(\"Bearing__2_4__2_5__signals.npy\", X_DATA_t)"
   ]
  },
  {
   "cell_type": "code",
   "execution_count": 31,
   "id": "0618ca15-3c72-42cb-a542-3346db60490f",
   "metadata": {},
   "outputs": [
    {
     "name": "stderr",
     "output_type": "stream",
     "text": [
      "100%|██████████████████████████████████████████████████████████████████████████████████████████████| 21/21 [00:43<00:00,  2.05s/it]\n"
     ]
    }
   ],
   "source": [
    "from tqdm import tqdm\n",
    "import numpy as np\n",
    "\n",
    "X_image_t = []\n",
    "directory = \"wvd_images\"\n",
    "for batch in tqdm(range(1, 22)):\n",
    "    data = np.load(f\"{directory}/Bearing__2_4__2_5__batch_{batch}.npy\")\n",
    "    for d in data:\n",
    "        X_image_t.append(d)\n",
    "X_image_t = np.array(X_image_t)"
   ]
  },
  {
   "cell_type": "code",
   "execution_count": 32,
   "id": "3a277ec4-696d-4dc0-b545-16d7fc492abe",
   "metadata": {},
   "outputs": [],
   "source": [
    "y_image_t = np.eye(4)[y_DATA_t]\n",
    "y_pred_t = np.argmax(model.predict(X_image_t), axis = 1)"
   ]
  },
  {
   "cell_type": "code",
   "execution_count": 33,
   "id": "3fcac58a-bfd0-4ddf-b316-61171c951fa9",
   "metadata": {},
   "outputs": [
    {
     "data": {
      "text/plain": [
       "array([[1.0000000e+00, 1.1407499e-25, 7.1329144e-11, 1.4179903e-20],\n",
       "       [9.9997056e-01, 1.2364618e-24, 2.9414530e-05, 2.7753579e-15],\n",
       "       [9.9999833e-01, 8.5074085e-20, 1.6647090e-06, 4.6982945e-11],\n",
       "       [1.0000000e+00, 4.7451148e-26, 3.4938619e-10, 3.3771455e-20],\n",
       "       [1.0000000e+00, 3.0221254e-31, 1.0836092e-19, 6.3122080e-26]],\n",
       "      dtype=float32)"
      ]
     },
     "execution_count": 33,
     "metadata": {},
     "output_type": "execute_result"
    }
   ],
   "source": [
    "model.predict(X_image_t)[:5]"
   ]
  },
  {
   "cell_type": "code",
   "execution_count": 35,
   "id": "f3f7c6f7-8c76-456f-8518-0221db300e70",
   "metadata": {},
   "outputs": [
    {
     "name": "stdout",
     "output_type": "stream",
     "text": [
      "Unique values: [0 2 3]\n",
      "Counts: [8432 3656  102]\n"
     ]
    }
   ],
   "source": [
    "unique_values, counts = np.unique(y_pred_t, return_counts=True)\n",
    "print(\"Unique values:\", unique_values)\n",
    "print(\"Counts:\", counts)"
   ]
  },
  {
   "cell_type": "code",
   "execution_count": 37,
   "id": "487d62d1-f599-4ba1-a89c-d420691167b3",
   "metadata": {},
   "outputs": [
    {
     "data": {
      "image/png": "[encoded data removed]",
      "text/plain": [
       "<Figure size 600x600 with 1 Axes>"
      ]
     },
     "metadata": {},
     "output_type": "display_data"
    }
   ],
   "source": [
    "import numpy as np\n",
    "import seaborn as sns\n",
    "import matplotlib.pyplot as plt\n",
    "from sklearn.metrics import confusion_matrix\n",
    "\n",
    "# y_true = np.argmax(y_test, axis=1)\n",
    "y_DATA_t\n",
    "y_pred_t = np.argmax(model.predict(X_image_t), axis=1)\n",
    "\n",
    "conf_matrix = confusion_matrix(y_DATA_t, y_pred_t)\n",
    "\n",
    "plt.figure(figsize=(6, 6))\n",
    "# sns.heatmap(conf_matrix, annot=True, fmt='d', cmap='Blues', cbar=False)\n",
    "sns.heatmap(conf_matrix, annot=True, fmt='d', cmap='Blues', cbar=False,\n",
    "            xticklabels=[0, 2, 3], yticklabels=[0, 2, 3])\n",
    "#plot\n",
    "plt.xlabel('Predicted Label')\n",
    "plt.ylabel('True Label')\n",
    "plt.title('Confusion Matrix')\n",
    "plt.show()"
   ]
  },
  {
   "cell_type": "code",
   "execution_count": 38,
   "id": "3712dff8-666a-48a1-a8ef-0c40d42e1e4f",
   "metadata": {},
   "outputs": [
    {
     "name": "stdout",
     "output_type": "stream",
     "text": [
      "Accuracy: 86.42\n"
     ]
    }
   ],
   "source": [
    "acc = np.sum(y_DATA_t==y_pred_t)/len(y_image_t)*100\n",
    "print(f\"Accuracy: {round(acc, 2)}\")"
   ]
  },
  {
   "cell_type": "markdown",
   "id": "1c771ee7-bad8-465b-9827-9d4bb88b21ab",
   "metadata": {},
   "source": [
    "#### Test on 1_1, 1_2, 1_3, 1_4"
   ]
  },
  {
   "cell_type": "code",
   "execution_count": 42,
   "id": "f53d9dc7-7c73-4561-8195-74293ee6b590",
   "metadata": {},
   "outputs": [
    {
     "name": "stderr",
     "output_type": "stream",
     "text": [
      "100%|████████████████████████████████████████████████████████████████████████████████████████████████| 4/4 [00:10<00:00,  2.56s/it]\n"
     ]
    }
   ],
   "source": [
    "X_t = []\n",
    "f_t = [0, 1, 2, 3]\n",
    "for idx in tqdm(f_t):\n",
    "    path = folders[idx]\n",
    "    files = sorted(int(f.split('.')[0]) for f in os.listdir(path))\n",
    "    all_horizontal_data = np.concatenate([get_vibrationdata(os.path.join(path, f'{f}.csv'))[1:, 0] for f in files])\n",
    "    X_t.append(all_horizontal_data)"
   ]
  },
  {
   "cell_type": "code",
   "execution_count": 43,
   "id": "1b835d94-62d2-4e79-8533-9f3b7b56a86e",
   "metadata": {},
   "outputs": [
    {
     "name": "stdout",
     "output_type": "stream",
     "text": [
      "size of signal 3935\n",
      "size of signal 5151\n",
      "size of signal 5055\n",
      "size of signal 3903\n"
     ]
    }
   ],
   "source": [
    "X_DATA_t = []\n",
    "y_DATA_t = []\n",
    "classes = [0, 2, 2, 2, 3]\n",
    "idx = 1\n",
    "for x in X_t:\n",
    "    m_idx, h_idx = find_fault_start_indices(x)\n",
    "    if m_idx is None:\n",
    "        print(\"Fault\")\n",
    "        break\n",
    "    signal_normal = x[0:m_idx]\n",
    "    signal_faulty = x[m_idx:]\n",
    "    \n",
    "    X_data_t, y_data_t = trim_signal_with_class(signal_normal, 256, 0, 4)\n",
    "    X_DATA_t, y_DATA_t = push_data(X_DATA_t, y_DATA_t, X_data_t, y_data_t)\n",
    "    X_data_t, y_data_t = trim_signal_with_class(signal_faulty, 256, classes[idx], 4)\n",
    "    X_DATA_t, y_DATA_t = push_data(X_DATA_t, y_DATA_t, X_data_t, y_data_t)\n",
    "    print(f\"size of signal {len(x)//(4*256)}\")\n",
    "    idx += 1\n",
    "    \n",
    "X_DATA_t = np.array(X_DATA_t)\n",
    "y_DATA_t = np.array(y_DATA_t)"
   ]
  },
  {
   "cell_type": "code",
   "execution_count": 44,
   "id": "7c06bd58-c982-44d9-b2e3-79516718fac9",
   "metadata": {},
   "outputs": [
    {
     "data": {
      "text/plain": [
       "(18042, 256)"
      ]
     },
     "execution_count": 44,
     "metadata": {},
     "output_type": "execute_result"
    }
   ],
   "source": [
    "X_DATA_t.shape"
   ]
  },
  {
   "cell_type": "code",
   "execution_count": 42,
   "id": "613e882f-8213-49b5-83dd-d8c8f5b09109",
   "metadata": {},
   "outputs": [],
   "source": [
    "np.save(\"Bearing__1_1__1_2__1_3__1_4__signals.npy\", X_DATA_t)"
   ]
  },
  {
   "cell_type": "code",
   "execution_count": 45,
   "id": "7676de4c-e37e-485c-8ccc-e044698c9cd8",
   "metadata": {},
   "outputs": [
    {
     "name": "stderr",
     "output_type": "stream",
     "text": [
      "100%|██████████████████████████████████████████████████████████████████████████████████████████████| 21/21 [01:19<00:00,  3.77s/it]\n"
     ]
    }
   ],
   "source": [
    "from tqdm import tqdm\n",
    "import numpy as np\n",
    "\n",
    "X_image_t = []\n",
    "directory = \"wvd_images\"\n",
    "for batch in tqdm(range(1, 22)):\n",
    "    data = np.load(f\"{directory}/Bearing__1_1__1_2__1_3__1_4__batch_{batch}.npy\")\n",
    "    for d in data:\n",
    "        X_image_t.append(d)\n",
    "X_image_t = np.array(X_image_t)"
   ]
  },
  {
   "cell_type": "code",
   "execution_count": 46,
   "id": "4f748efe-8a10-4389-a170-460e201742e7",
   "metadata": {},
   "outputs": [],
   "source": [
    "y_image_t = np.eye(4)[y_DATA_t]\n",
    "y_pred_t = np.argmax(model.predict(X_image_t), axis = 1)"
   ]
  },
  {
   "cell_type": "code",
   "execution_count": 47,
   "id": "7eed525b-a021-4a5a-906b-3be662c5298e",
   "metadata": {},
   "outputs": [
    {
     "data": {
      "image/png": "[encoded data removed]",
      "text/plain": [
       "<Figure size 600x600 with 1 Axes>"
      ]
     },
     "metadata": {},
     "output_type": "display_data"
    }
   ],
   "source": [
    "import numpy as np\n",
    "import seaborn as sns\n",
    "import matplotlib.pyplot as plt\n",
    "from sklearn.metrics import confusion_matrix\n",
    "\n",
    "# y_true = np.argmax(y_test, axis=1)\n",
    "# y_DATA_t\n",
    "y_pred_t = np.argmax(model.predict(X_image_t), axis=1)\n",
    "\n",
    "conf_matrix = confusion_matrix(y_DATA_t, y_pred_t)\n",
    "\n",
    "plt.figure(figsize=(6, 6))\n",
    "sns.heatmap(conf_matrix, annot=True, fmt='d', cmap='Blues', cbar=False)\n",
    "#plot\n",
    "plt.xlabel('Predicted Label')\n",
    "plt.ylabel('True Label')\n",
    "plt.title('Confusion Matrix')\n",
    "plt.show()"
   ]
  },
  {
   "cell_type": "code",
   "execution_count": 48,
   "id": "01568136-23a9-470a-9045-693166135719",
   "metadata": {},
   "outputs": [
    {
     "name": "stdout",
     "output_type": "stream",
     "text": [
      "Accuracy: 85.02\n"
     ]
    }
   ],
   "source": [
    "acc = np.sum(y_DATA_t==y_pred_t)/len(y_image_t)*100\n",
    "print(f\"Accuracy: {round(acc, 2)}\")"
   ]
  },
  {
   "cell_type": "code",
   "execution_count": 49,
   "id": "300602d3-97a8-461c-88d3-751cf597e97c",
   "metadata": {},
   "outputs": [
    {
     "data": {
      "text/plain": [
       "array([[1.26884878e-01, 6.20490862e-16, 8.73115122e-01, 4.75745853e-20],\n",
       "       [1.00000000e+00, 1.48022534e-12, 1.20817609e-11, 2.13368238e-25],\n",
       "       [9.99967694e-01, 5.66497786e-18, 3.23323256e-05, 5.43147527e-27],\n",
       "       [1.00000000e+00, 7.17472482e-14, 3.31781857e-13, 1.14842320e-22],\n",
       "       [9.99870777e-01, 3.54251117e-15, 1.29167500e-04, 3.48480109e-20],\n",
       "       [9.99998093e-01, 7.38795761e-11, 1.89786351e-06, 1.01009067e-19],\n",
       "       [1.00000000e+00, 7.05756134e-19, 1.03588791e-08, 4.67008648e-19],\n",
       "       [8.55057538e-01, 2.09349530e-12, 1.44942477e-01, 9.69683365e-24],\n",
       "       [9.27546084e-01, 7.13525864e-13, 7.24538937e-02, 2.90532973e-19],\n",
       "       [9.42256391e-01, 1.47401868e-10, 5.77435941e-02, 2.35091980e-21]],\n",
       "      dtype=float32)"
      ]
     },
     "execution_count": 49,
     "metadata": {},
     "output_type": "execute_result"
    }
   ],
   "source": [
    "model.predict(X_image_t)[:10]"
   ]
  },
  {
   "cell_type": "code",
   "execution_count": 50,
   "id": "6424416f-49db-4f0f-bee6-8b5fccf7ea09",
   "metadata": {},
   "outputs": [
    {
     "name": "stdout",
     "output_type": "stream",
     "text": [
      "Unique values: [0 1 2]\n",
      "Counts: [12945    18  5079]\n"
     ]
    }
   ],
   "source": [
    "unique_values, counts = np.unique(y_pred_t, return_counts=True)\n",
    "print(\"Unique values:\", unique_values)\n",
    "print(\"Counts:\", counts)"
   ]
  },
  {
   "cell_type": "markdown",
   "id": "337401a3-53d5-4221-a7ca-5a2ac06ff3bf",
   "metadata": {},
   "source": [
    "#### Test on 3_1, 3_3, 3_4, 3_5"
   ]
  },
  {
   "cell_type": "code",
   "execution_count": 14,
   "id": "65b1f218-7059-420f-b1c3-c36533a197d9",
   "metadata": {},
   "outputs": [
    {
     "name": "stderr",
     "output_type": "stream",
     "text": [
      "100%|███████████████████████████████████████████████████████████████████████████████████████████████████████████████| 4/4 [00:59<00:00, 14.77s/it]\n"
     ]
    }
   ],
   "source": [
    "X_t = []\n",
    "f_t = [10, 12, 13, 14]\n",
    "for idx in tqdm(f_t):\n",
    "    path = folders[idx]\n",
    "    files = sorted(int(f.split('.')[0]) for f in os.listdir(path))\n",
    "    all_horizontal_data = np.concatenate([get_vibrationdata(os.path.join(path, f'{f}.csv'))[1:, 0] for f in files])\n",
    "    X_t.append(all_horizontal_data)"
   ]
  },
  {
   "cell_type": "code",
   "execution_count": 20,
   "id": "89c8ee4f-1917-4571-b7c6-53de85b88501",
   "metadata": {},
   "outputs": [
    {
     "name": "stdout",
     "output_type": "stream",
     "text": [
      "size of signal 81213\n",
      "size of signal 11871\n",
      "size of signal 48478\n",
      "size of signal 3647\n"
     ]
    }
   ],
   "source": [
    "X_DATA_t = []\n",
    "y_DATA_t = []\n",
    "classes = [0, 2, 1, 1, 2]\n",
    "idx = 1\n",
    "for x in X_t:\n",
    "    m_idx, h_idx = find_fault_start_indices(x)\n",
    "    if m_idx is None:\n",
    "        print(\"Fault\")\n",
    "        break\n",
    "    signal_normal = x[0:m_idx//25]\n",
    "    signal_faulty = x[m_idx:]\n",
    "    \n",
    "    X_data_t, y_data_t = trim_signal_with_class(signal_normal, 256, 0, 4)\n",
    "    X_DATA_t, y_DATA_t = push_data(X_DATA_t, y_DATA_t, X_data_t, y_data_t)\n",
    "    X_data_t, y_data_t = trim_signal_with_class(signal_faulty, 256, classes[idx], 4)\n",
    "    X_DATA_t, y_DATA_t = push_data(X_DATA_t, y_DATA_t, X_data_t, y_data_t)\n",
    "    print(f\"size of signal {len(x)//(4*256)}\")\n",
    "    idx += 1\n",
    "    \n",
    "X_DATA_t = np.array(X_DATA_t)\n",
    "y_DATA_t = np.array(y_DATA_t)"
   ]
  },
  {
   "cell_type": "code",
   "execution_count": 21,
   "id": "3e535353-e974-4848-bae2-04ca86a1d4b0",
   "metadata": {},
   "outputs": [
    {
     "data": {
      "text/plain": [
       "(14050, 256)"
      ]
     },
     "execution_count": 21,
     "metadata": {},
     "output_type": "execute_result"
    }
   ],
   "source": [
    "X_DATA_t.shape"
   ]
  },
  {
   "cell_type": "code",
   "execution_count": null,
   "id": "c52b5669-f80d-4ec4-8cb1-259f4701e00f",
   "metadata": {},
   "outputs": [],
   "source": []
  },
  {
   "cell_type": "code",
   "execution_count": 22,
   "id": "5f192b65-2f1c-45aa-92eb-9743238c8258",
   "metadata": {},
   "outputs": [
    {
     "name": "stderr",
     "output_type": "stream",
     "text": [
      "100%|█████████████████████████████████████████████████████████████████████████████████████████████████████████████| 21/21 [00:02<00:00,  7.02it/s]\n"
     ]
    }
   ],
   "source": [
    "from tqdm import tqdm\n",
    "import numpy as np\n",
    "\n",
    "X_image_t = []\n",
    "directory = \"wvd_images\"\n",
    "for batch in tqdm(range(1, 22)):\n",
    "    data = np.load(f\"{directory}/Bearing__3_1__3_3__3_4__3_5__batch_{batch}.npy\")\n",
    "    for d in data:\n",
    "        X_image_t.append(d)\n",
    "X_image_t = np.array(X_image_t)"
   ]
  },
  {
   "cell_type": "code",
   "execution_count": 23,
   "id": "a674bbc1-77a5-4afe-bed2-12bc3f4e4a8c",
   "metadata": {},
   "outputs": [
    {
     "data": {
      "text/plain": [
       "(14050, 256, 256, 1)"
      ]
     },
     "execution_count": 23,
     "metadata": {},
     "output_type": "execute_result"
    }
   ],
   "source": [
    "X_image_t.shape"
   ]
  },
  {
   "cell_type": "code",
   "execution_count": 24,
   "id": "23925152-07e5-4ccf-a2bf-2799e8d435c3",
   "metadata": {
    "scrolled": true
   },
   "outputs": [
    {
     "name": "stderr",
     "output_type": "stream",
     "text": [
      "2024-11-20 16:35:02.265948: I tensorflow/compiler/mlir/mlir_graph_optimization_pass.cc:116] None of the MLIR optimization passes are enabled (registered 2)\n",
      "2024-11-20 16:35:02.286697: I tensorflow/core/platform/profile_utils/cpu_utils.cc:112] CPU Frequency: 2199915000 Hz\n",
      "2024-11-20 16:35:02.530823: I tensorflow/stream_executor/platform/default/dso_loader.cc:49] Successfully opened dynamic library libcublas.so.10\n",
      "2024-11-20 16:35:02.681770: I tensorflow/stream_executor/platform/default/dso_loader.cc:49] Successfully opened dynamic library libcudnn.so.7\n"
     ]
    },
    {
     "data": {
      "image/png": "[encoded data removed]",
      "text/plain": [
       "<Figure size 600x600 with 1 Axes>"
      ]
     },
     "metadata": {},
     "output_type": "display_data"
    }
   ],
   "source": [
    "import numpy as np\n",
    "import seaborn as sns\n",
    "import matplotlib.pyplot as plt\n",
    "from sklearn.metrics import confusion_matrix\n",
    "\n",
    "# y_true = np.argmax(y_test, axis=1)\n",
    "# y_DATA_t\n",
    "y_pred_t = np.argmax(model.predict(X_image_t), axis=1)\n",
    "\n",
    "conf_matrix = confusion_matrix(y_DATA_t, y_pred_t)\n",
    "\n",
    "plt.figure(figsize=(6, 6))\n",
    "sns.heatmap(conf_matrix, annot=True, fmt='d', cmap='Blues', cbar=False)\n",
    "#plot\n",
    "plt.xlabel('Predicted Label')\n",
    "plt.ylabel('True Label')\n",
    "plt.title('Confusion Matrix')\n",
    "plt.show()"
   ]
  },
  {
   "cell_type": "code",
   "execution_count": 25,
   "id": "c755248a-2f9b-46ad-8dba-db00682ce97a",
   "metadata": {},
   "outputs": [
    {
     "name": "stdout",
     "output_type": "stream",
     "text": [
      "Accuracy: 68.6\n"
     ]
    }
   ],
   "source": [
    "acc = np.sum(y_DATA_t==y_pred_t)/len(y_DATA_t)*100\n",
    "print(f\"Accuracy: {round(acc, 2)}\")"
   ]
  },
  {
   "cell_type": "code",
   "execution_count": 26,
   "id": "93134ad5-ff9d-4d33-b5a1-6335b4d53ad7",
   "metadata": {},
   "outputs": [
    {
     "data": {
      "text/plain": [
       "array([[1.00000000e+00, 3.43231114e-31, 1.00834943e-25, 3.39406591e-34],\n",
       "       [1.00000000e+00, 1.45785676e-32, 2.53295693e-20, 3.20847064e-30],\n",
       "       [1.00000000e+00, 8.30607209e-27, 8.06536370e-13, 2.30611638e-20],\n",
       "       [1.00000000e+00, 0.00000000e+00, 4.37177602e-24, 1.42607690e-37],\n",
       "       [1.00000000e+00, 2.88041121e-24, 2.67123320e-11, 1.16622137e-18],\n",
       "       [1.00000000e+00, 0.00000000e+00, 6.21895300e-24, 2.43297943e-33],\n",
       "       [1.00000000e+00, 7.29537328e-29, 8.50464966e-16, 4.82172535e-22],\n",
       "       [1.00000000e+00, 0.00000000e+00, 1.12548276e-33, 5.82554793e-37],\n",
       "       [1.00000000e+00, 1.13242967e-25, 3.25644563e-17, 8.99041777e-30],\n",
       "       [1.00000000e+00, 5.42819441e-26, 1.89996283e-11, 7.53424390e-23]],\n",
       "      dtype=float32)"
      ]
     },
     "execution_count": 26,
     "metadata": {},
     "output_type": "execute_result"
    }
   ],
   "source": [
    "model.predict(X_image_t)[:10]"
   ]
  },
  {
   "cell_type": "code",
   "execution_count": 27,
   "id": "fef5f477-c35f-48f1-80d0-3e2e6fa13b93",
   "metadata": {},
   "outputs": [
    {
     "name": "stdout",
     "output_type": "stream",
     "text": [
      "Unique values: [0 1 2 3]\n",
      "Counts: [6896    1 7146    7]\n"
     ]
    }
   ],
   "source": [
    "unique_values, counts = np.unique(y_pred_t, return_counts=True)\n",
    "print(\"Unique values:\", unique_values)\n",
    "print(\"Counts:\", counts)"
   ]
  },
  {
   "cell_type": "code",
   "execution_count": 28,
   "id": "b8e0b26e-52df-4060-aa7b-9e695985eccc",
   "metadata": {},
   "outputs": [
    {
     "name": "stdout",
     "output_type": "stream",
     "text": [
      "Unique values: [0 1 2]\n",
      "Counts: [5463 2961 5626]\n"
     ]
    }
   ],
   "source": [
    "unique_values, counts = np.unique(y_DATA_t, return_counts=True)\n",
    "print(\"Unique values:\", unique_values)\n",
    "print(\"Counts:\", counts)"
   ]
  },
  {
   "cell_type": "code",
   "execution_count": null,
   "id": "41f7f304-bcab-4400-8066-0fbf65ea74d1",
   "metadata": {},
   "outputs": [],
   "source": []
  }
 ],
 "metadata": {
  "kernelspec": {
   "display_name": "Python 3",
   "language": "python",
   "name": "python3"
  },
  "language_info": {
   "codemirror_mode": {
    "name": "ipython",
    "version": 3
   },
   "file_extension": ".py",
   "mimetype": "text/x-python",
   "name": "python",
   "nbconvert_exporter": "python",
   "pygments_lexer": "ipython3",
   "version": "3.11.9"
  }
 },
 "nbformat": 4,
 "nbformat_minor": 5
}
